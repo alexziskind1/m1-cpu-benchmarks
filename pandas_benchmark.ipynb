{
 "cells": [
  {
   "cell_type": "code",
   "execution_count": 1,
   "id": "f0b5a40a-0388-4443-b707-25f1e4818b64",
   "metadata": {},
   "outputs": [
    {
     "name": "stderr",
     "output_type": "stream",
     "text": [
      "UserWarning: Distributing <class 'numpy.ndarray'> object. This may take some time.\n",
      "UserWarning: merge defaulting to pandas implementation.\n",
      "To request implementation, send an email to feature_requests@modin.org.\n",
      "UserWarning: merge defaulting to pandas implementation.\n"
     ]
    },
    {
     "name": "stdout",
     "output_type": "stream",
     "text": [
      "\n",
      "Results\n",
      "=======\n",
      "datagen: 3.2\n",
      "inner_merge: 17.6\n",
      "outer_merge: 27.6\n"
     ]
    }
   ],
   "source": [
    "import os\n",
    "os.environ[\"MODIN_ENGINE\"] = \"dask\"\n",
    "from dask.distributed import Client\n",
    "client = Client(n_workers=10)\n",
    "import time\n",
    "import string\n",
    "import numpy as np\n",
    "import modin.pandas as pd\n",
    "\n",
    "runs = 3\n",
    "\n",
    "min_value, max_value = 0, 9223372036854775807\n",
    "\n",
    "results = {\n",
    "    \"datagen\": 0,\n",
    "    \"inner_merge\": 0,\n",
    "    \"outer_merge\": 0,\n",
    "}\n",
    "\n",
    "def benchmark():\n",
    "    st = time.time()\n",
    "    cols = list(string.printable)[:75]\n",
    "    size = (int(1e6), len(cols))\n",
    "    df1 = pd.DataFrame(np.random.randint(min_value,max_value,size=size), columns=cols).astype(\"float\")\n",
    "    cols = list(string.printable)[-75:]\n",
    "    size = (int(1e6), len(cols))\n",
    "    df2 = pd.DataFrame(np.random.randint(min_value,max_value,size=size), columns=cols).astype(\"float\")\n",
    "    et = time.time()\n",
    "    duration = et-st\n",
    "    results[\"datagen\"] += duration\n",
    "    \n",
    "    st = time.time()\n",
    "    inner_merge = pd.merge(df1, df2, how=\"inner\")\n",
    "    et = time.time()\n",
    "    duration = et-st\n",
    "    results[\"inner_merge\"] += duration\n",
    "    \n",
    "    st = time.time()\n",
    "    outer_merge = pd.merge(df1, df2, how=\"outer\")\n",
    "    et = time.time()\n",
    "    duration = et-st\n",
    "    results[\"outer_merge\"] += duration\n",
    "    \n",
    "for i in range(runs):\n",
    "    benchmark()\n",
    "    \n",
    "results[\"datagen\"] /= runs\n",
    "results[\"inner_merge\"] /= runs\n",
    "results[\"outer_merge\"] /= runs\n",
    "\n",
    "print(\"\")\n",
    "print(\"Results\")\n",
    "print(\"=======\")\n",
    "print(\"datagen:\", round(results[\"datagen\"],1))\n",
    "print(\"inner_merge:\", round(results[\"inner_merge\"],1))\n",
    "print(\"outer_merge:\", round(results[\"outer_merge\"],1))"
   ]
  },
  {
   "cell_type": "code",
   "execution_count": null,
   "id": "381a67ba-41ff-4c74-a17d-9fad2fdb407c",
   "metadata": {},
   "outputs": [],
   "source": []
  }
 ],
 "metadata": {
  "kernelspec": {
   "display_name": "Python 3 (ipykernel)",
   "language": "python",
   "name": "python3"
  },
  "language_info": {
   "codemirror_mode": {
    "name": "ipython",
    "version": 3
   },
   "file_extension": ".py",
   "mimetype": "text/x-python",
   "name": "python",
   "nbconvert_exporter": "python",
   "pygments_lexer": "ipython3",
   "version": "3.9.7"
  }
 },
 "nbformat": 4,
 "nbformat_minor": 5
}
